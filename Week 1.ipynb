{
 "cells": [
  {
   "cell_type": "markdown",
   "id": "4ce64bd5",
   "metadata": {},
   "source": [
    "# Week 1"
   ]
  },
  {
   "cell_type": "markdown",
   "id": "22feed06",
   "metadata": {},
   "source": [
    "Python interpreter runs the code line by line from top!"
   ]
  },
  {
   "cell_type": "markdown",
   "id": "f4c50f34",
   "metadata": {},
   "source": [
    "A quotation in print function creates a string, in print function you\n",
    "can write some string then write * 10 to print it 10 times"
   ]
  },
  {
   "cell_type": "markdown",
   "id": "ad46bb1a",
   "metadata": {},
   "source": [
    "any mathematical operator creates an expression, which is evaluated \n",
    "before running the function in which that expression is called"
   ]
  },
  {
   "cell_type": "markdown",
   "id": "82e06750",
   "metadata": {},
   "source": [
    "Variables are used to temporarily store data in the computer's memory\n",
    "\n",
    "To receive inputs in python: input(\"What is your name?\"), or just input()\n",
    "\n",
    "+ is used to contacanate strings in print expression\n",
    "\n",
    "All inputs gotten through input function are of string type!\n",
    "\n",
    "to typecase you just pass the variable into the cooresponding function\n",
    "\n"
   ]
  },
  {
   "cell_type": "code",
   "execution_count": null,
   "id": "b5a7c6e7",
   "metadata": {},
   "outputs": [],
   "source": []
  },
  {
   "cell_type": "code",
   "execution_count": null,
   "id": "db8784e7",
   "metadata": {},
   "outputs": [],
   "source": []
  }
 ],
 "metadata": {
  "kernelspec": {
   "display_name": "Python 3 (ipykernel)",
   "language": "python",
   "name": "python3"
  },
  "language_info": {
   "codemirror_mode": {
    "name": "ipython",
    "version": 3
   },
   "file_extension": ".py",
   "mimetype": "text/x-python",
   "name": "python",
   "nbconvert_exporter": "python",
   "pygments_lexer": "ipython3",
   "version": "3.10.9"
  }
 },
 "nbformat": 4,
 "nbformat_minor": 5
}
