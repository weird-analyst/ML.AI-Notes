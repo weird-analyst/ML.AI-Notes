{
 "cells": [
  {
   "cell_type": "code",
   "execution_count": 2,
   "metadata": {},
   "outputs": [],
   "source": [
    "from PIL import Image, ImageDraw, ImageFont\n",
    "import matplotlib.pyplot as plt\n",
    "import hashlib\n",
    "import numpy as np "
   ]
  },
  {
   "cell_type": "markdown",
   "metadata": {},
   "source": [
    "<h3>The following block of code will generate an image based on your Unique ID, you then have to perform SVD on that image.</h3>\n",
    "<br>\n",
    "(if you are interested in how the image is generated read the comments otherwise just run the cell as it is)\n"
   ]
  },
  {
   "cell_type": "code",
   "execution_count": 4,
   "metadata": {},
   "outputs": [
    {
     "name": "stderr",
     "output_type": "stream",
     "text": [
      "C:\\Users\\adars\\AppData\\Local\\Temp\\ipykernel_24480\\3006587957.py:43: DeprecationWarning: textsize is deprecated and will be removed in Pillow 10 (2023-07-01). Use textbbox or textlength instead.\n",
      "  text_width, text_height = draw.textsize(id_number, font=font)\n"
     ]
    }
   ],
   "source": [
    "\n",
    "# Enter your Unique ID as variable unique_id\n",
    "unique_id = 2287\n",
    "id_number = str(unique_id)\n",
    "\n",
    "# Image size\n",
    "image_size = 256\n",
    "\n",
    "# Create a blank color image\n",
    "image = Image.new(\"RGB\", (image_size, image_size), (255, 255, 255))\n",
    "draw = ImageDraw.Draw(image)\n",
    "\n",
    "# Define the font size based on the image size\n",
    "font_size = int(image_size / 2)\n",
    "\n",
    "# Choose a font (you may need to provide the font file path)\n",
    "font = ImageFont.truetype(\"Conquest-8MxyM.ttf\", font_size)\n",
    "\n",
    "# Calculate the hash value based on the ID\n",
    "hash_value = hashlib.md5(id_number.encode()).hexdigest()\n",
    "\n",
    "# Extract the RGB values from the hash value\n",
    "red = int(hash_value[:2], 16)\n",
    "green = int(hash_value[2:4], 16)\n",
    "blue = int(hash_value[4:6], 16)\n",
    "\n",
    "# Create a gradient background\n",
    "gradient = np.tile(np.linspace(0, 255, image_size), (image_size, 1)).astype(np.uint8)\n",
    "gradient_image = Image.fromarray(gradient, mode=\"L\").convert(\"RGB\")\n",
    "\n",
    "# Overlay the gradient background on the image\n",
    "image.paste(gradient_image, (0, 0))\n",
    "\n",
    "# Define the rectangle parameters\n",
    "rectangle_width = image_size // 2\n",
    "rectangle_height = image_size // 4\n",
    "top_left = ((image_size - rectangle_width) // 2, (image_size - rectangle_height) // 2)\n",
    "bottom_right = (top_left[0] + rectangle_width, top_left[1] + rectangle_height)\n",
    "\n",
    "# Draw a filled rectangle on the image\n",
    "draw.rectangle([top_left, bottom_right], fill=(255 - red, 255 - green, 255 - blue))\n",
    "\n",
    "# Calculate the text position\n",
    "text_width, text_height = draw.textsize(id_number, font=font)\n",
    "text_position = ((image_size - text_width) // 2, (image_size - text_height) // 2)\n",
    "\n",
    "# Draw the text on the image with the calculated RGB values\n",
    "draw.text(text_position, id_number, fill=(red, green, blue), font=font)\n",
    "\n",
    "# convert the pil image to np array so that we can deal the image with pyplot library.\n",
    "img = np.array(image)"
   ]
  },
  {
   "cell_type": "code",
   "execution_count": 66,
   "metadata": {},
   "outputs": [],
   "source": [
    "# convert the image to grayscale taking average value of the three R , G , B pixel values\n",
    "img1 = np.zeros((img.shape[0:2]))\n",
    "img1 = np.average(img, axis=-1)\n",
    "\n",
    "# now perform Singular Value Decomposition on the image\n",
    "u, s, vh = np.linalg.svd(img1, full_matrices=True)\n",
    "\n",
    "# Number of components to use for reconstruction\n",
    "num_components = 10\n",
    "\n",
    "# Reconstruct the image using a subset of singular values and vectors\n",
    "\n",
    "\n",
    "# Calculate the percentage reconstruction: (norm of generated image / norm of original grayscale image ) *100 \n",
    "\n",
    "\n",
    "# to_submit = int(percentage_reconstruction *1000) % 100 "
   ]
  },
  {
   "cell_type": "markdown",
   "metadata": {},
   "source": [
    "You need to submit this **to_submit** value in the quiz form."
   ]
  },
  {
   "cell_type": "code",
   "execution_count": 73,
   "metadata": {},
   "outputs": [],
   "source": [
    "img3 = np.zeros((img1.shape))"
   ]
  },
  {
   "cell_type": "code",
   "execution_count": 85,
   "metadata": {},
   "outputs": [],
   "source": [
    "img1c = u[:,:10]*np.diag()"
   ]
  },
  {
   "cell_type": "code",
   "execution_count": null,
   "metadata": {},
   "outputs": [],
   "source": []
  }
 ],
 "metadata": {
  "kernelspec": {
   "display_name": "Python 3 (ipykernel)",
   "language": "python",
   "name": "python3"
  },
  "language_info": {
   "codemirror_mode": {
    "name": "ipython",
    "version": 3
   },
   "file_extension": ".py",
   "mimetype": "text/x-python",
   "name": "python",
   "nbconvert_exporter": "python",
   "pygments_lexer": "ipython3",
   "version": "3.11.1"
  },
  "vscode": {
   "interpreter": {
    "hash": "d95760da3830177e0ee3e0b179ce27239bf6f2511c74f33a77d4d7ee195a966d"
   }
  }
 },
 "nbformat": 4,
 "nbformat_minor": 2
}
